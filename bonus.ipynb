{
 "cells": [
  {
   "cell_type": "code",
   "execution_count": null,
   "id": "0ca0afd2",
   "metadata": {},
   "outputs": [],
   "source": [
    "wiaitng_list = [\"sen\", \"ben\", \"john\"]\n",
    "wiaitng_list.sort(reverse= True)\n",
    "\n",
    "for index, item in enumerate(wiaitng_list):\n",
    "    row = f\"{index}.{item.capitalize()}\"\n",
    "    print(row)"
   ]
  },
  {
   "cell_type": "code",
   "execution_count": 10,
   "id": "3b2e0d19",
   "metadata": {},
   "outputs": [
    {
     "name": "stdout",
     "output_type": "stream",
     "text": [
      "Kid is too small\n"
     ]
    }
   ],
   "source": [
    "#DECOUPLING\n",
    "feet_inches = input(\"Enter feet and inches: \")\n",
    "\n",
    "def convert(feet_inches):\n",
    "    parts = feet_inches.split((\" \"))\n",
    "    feet = float(parts[0])\n",
    "    inches = float(parts[1])\n",
    "\n",
    "    meters = feet * 0.3048 + inches * 0.0254 \n",
    "    return meters\n",
    "\n",
    "result = (convert(feet_inches))\n",
    "\n",
    "if result <1 :\n",
    "    print(\"Kid is too small\")\n",
    "else: \n",
    "    print(\"Kid can use the slide\")"
   ]
  },
  {
   "cell_type": "code",
   "execution_count": 12,
   "id": "2a77e39f",
   "metadata": {},
   "outputs": [
    {
     "name": "stdout",
     "output_type": "stream",
     "text": [
      "50.0\n"
     ]
    }
   ],
   "source": [
    "def speed(distance, time):\n",
    "    return distance / time\n",
    "    \n",
    "print(speed(200, 4))"
   ]
  }
 ],
 "metadata": {
  "kernelspec": {
   "display_name": ".venv",
   "language": "python",
   "name": "python3"
  },
  "language_info": {
   "codemirror_mode": {
    "name": "ipython",
    "version": 3
   },
   "file_extension": ".py",
   "mimetype": "text/x-python",
   "name": "python",
   "nbconvert_exporter": "python",
   "pygments_lexer": "ipython3",
   "version": "3.12.5"
  }
 },
 "nbformat": 4,
 "nbformat_minor": 5
}
