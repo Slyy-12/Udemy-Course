{
 "cells": [
  {
   "cell_type": "code",
   "execution_count": null,
   "id": "8af4bd8c",
   "metadata": {},
   "outputs": [],
   "source": [
    "mylist = [\"karan\", \"ketan\", \"arsh\"]\n",
    "todos = \"add, show or edit?\"\n",
    "user_input = input(todos)\n",
    "print(user_input)\n",
    "\n",
    "\n",
    "for items, index in mylist:\n",
    "    print(\"-\", items.capitalize())"
   ]
  },
  {
   "cell_type": "code",
   "execution_count": null,
   "id": "5165c3d9",
   "metadata": {},
   "outputs": [],
   "source": [
    "def get_todos(filepath):\n",
    "    with open(filepath, 'r') as file_local:\n",
    "        todos_local = file_local.readlines()\n",
    "    return todos_local\n",
    "\n",
    "def write_todos(filepath, todos_arg):\n",
    "    with open(filepath, 'w') as file:\n",
    "        file.writelines(todos_arg)\n",
    "\n",
    "while True:\n",
    "    user_action = input(\"add, show, complete or edit?\")\n",
    "    user_action = user_action.strip()\n",
    "\n",
    "    if user_action.startswith(\"add\"):\n",
    "        todo = user_action[4:]\n",
    "\n",
    "        todos = get_todos(\"todos.txt\")\n",
    "\n",
    "        todos.append(todo + '\\n')\n",
    "\n",
    "        write.todos(\"todos.txt\", todos)\n",
    "        \n",
    "    elif user_action.startswith(\"show\"):\n",
    "        case 'show':\n",
    "            for index, item in enumerate(todos):\n",
    "                row = f\"{index + 1}-{item}\"\n",
    "                print(row)\n",
    "        case 'edit':\n",
    "            number = int(input(\"Number of the todo to edit: \"))\n",
    "            number = number -1\n",
    "            new_todo = input(\"Enter new todo: \")\n",
    "            todos[number] = new_todo\n",
    "        case 'complete':\n",
    "            number = int(input(\"Number of the todo to complete: \"))\n",
    "            todos.pop(number - 1)\n",
    "        case 'exit':\n",
    "            break "
   ]
  },
  {
   "cell_type": "code",
   "execution_count": 13,
   "id": "f713195e",
   "metadata": {},
   "outputs": [
    {
     "name": "stdout",
     "output_type": "stream",
     "text": [
      "Karan123\n",
      "Strong Password\n"
     ]
    }
   ],
   "source": [
    "def strength(password):\n",
    "    print(password)\n",
    "    result = {}\n",
    "\n",
    "    if len(password) >= 8:\n",
    "        result[\"length\"] = True\n",
    "    else:\n",
    "        result[\"length\"] = False\n",
    "\n",
    "    digit = False\n",
    "    uppercase = False\n",
    "\n",
    "    for i in password:\n",
    "        if i.isdigit():\n",
    "            digit = True\n",
    "        if i.isupper():\n",
    "            uppercase = True \n",
    "\n",
    "    result[\"digits\"] = digit \n",
    "    result[\"upper-case\"] = uppercase\n",
    "\n",
    "    if all(result.values()):\n",
    "        return \"Strong Password\"\n",
    "    else:\n",
    "        return \"Weak Password\"\n",
    "    \n",
    "user_password = strength(input(\"Enter a Password\"))\n",
    "print(user_password)"
   ]
  }
 ],
 "metadata": {
  "kernelspec": {
   "display_name": ".venv",
   "language": "python",
   "name": "python3"
  },
  "language_info": {
   "codemirror_mode": {
    "name": "ipython",
    "version": 3
   },
   "file_extension": ".py",
   "mimetype": "text/x-python",
   "name": "python",
   "nbconvert_exporter": "python",
   "pygments_lexer": "ipython3",
   "version": "3.12.5"
  }
 },
 "nbformat": 4,
 "nbformat_minor": 5
}
